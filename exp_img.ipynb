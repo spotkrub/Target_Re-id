{
 "cells": [
  {
   "cell_type": "code",
   "execution_count": 4,
   "metadata": {},
   "outputs": [],
   "source": [
    "# This notebook is to ease the experiementation process of having to constantly reload any NN models\n",
    "# Import Libraries\n",
    "import cv2 as cv\n",
    "from time import time\n",
    "\n",
    "import yaml\n",
    "import sensors"
   ]
  },
  {
   "cell_type": "code",
   "execution_count": 5,
   "metadata": {},
   "outputs": [
    {
     "name": "stderr",
     "output_type": "stream",
     "text": [
      "YOLOv5 🚀 v7.0-163-g016e046 Python-3.9.16 torch-2.0.0+cu118 CUDA:0 (NVIDIA GeForce RTX 3070 Ti Laptop GPU, 7974MiB)\n",
      "\n"
     ]
    },
    {
     "name": "stdout",
     "output_type": "stream",
     "text": [
      "\u001b[31m\u001b[1mrequirements:\u001b[0m /home/luacghee20/YOLO/requirements.txt not found, check failed.\n"
     ]
    },
    {
     "name": "stderr",
     "output_type": "stream",
     "text": [
      "Fusing layers... \n",
      "YOLOv5x summary: 444 layers, 86705005 parameters, 0 gradients\n",
      "Adding AutoShape... \n",
      "YOLOv5 🚀 v7.0-163-g016e046 Python-3.9.16 torch-2.0.0+cu118 CUDA:0 (NVIDIA GeForce RTX 3070 Ti Laptop GPU, 7974MiB)\n",
      "\n"
     ]
    },
    {
     "name": "stdout",
     "output_type": "stream",
     "text": [
      "\u001b[31m\u001b[1mrequirements:\u001b[0m /home/luacghee20/YOLO/requirements.txt not found, check failed.\n"
     ]
    },
    {
     "name": "stderr",
     "output_type": "stream",
     "text": [
      "Fusing layers... \n",
      "YOLOv5x summary: 444 layers, 86705005 parameters, 0 gradients\n",
      "Adding AutoShape... \n"
     ]
    }
   ],
   "source": [
    "# User Settings\n",
    "media = 'img_human' # ball or human\n",
    "\n",
    "\n",
    "with open('config_detection.yml', 'r') as file:\n",
    "    detection_config = yaml.safe_load(file)\n",
    "detect_setup = detection_config['yolov5_setup1']\n",
    "\n",
    "cam_static_dir = '../data/Blender/cam_static/'\n",
    "with open(cam_static_dir + 'cam_static_info.yml', 'r') as file:\n",
    "    cam_info = yaml.safe_load(file)\n",
    "\n",
    "camA = sensors.cam(cam_info[\"cam_static\" + str(1)])\n",
    "camB = sensors.cam(cam_info[\"cam_static\" + str(0)])\n",
    "\n",
    "# Initialise OOI detection model\n",
    "camA.detect_init(detect_setup)\n",
    "camB.detect_init(detect_setup)"
   ]
  },
  {
   "cell_type": "code",
   "execution_count": 7,
   "metadata": {},
   "outputs": [
    {
     "name": "stdout",
     "output_type": "stream",
     "text": [
      "(10, 14)\n",
      "(9, 14)\n"
     ]
    },
    {
     "data": {
      "text/plain": [
       "' Noise '"
      ]
     },
     "execution_count": 7,
     "metadata": {},
     "output_type": "execute_result"
    }
   ],
   "source": [
    "import importlib # For ipynb\n",
    "\n",
    "import numpy as np\n",
    "import reid_known as reid\n",
    "import reid_known_plots as reid_plt\n",
    "\n",
    "importlib.reload(reid)\n",
    "\n",
    "\"\"\" Data Acquisition \"\"\"\n",
    "# Images captured by cameras\n",
    "imgA = cv.imread(cam_static_dir + camA.cam_output[media])\n",
    "imgB = cv.imread(cam_static_dir + camB.cam_output[media])\n",
    "\n",
    "\"\"\" Detection and Pre-processing \"\"\"\n",
    "results_ooiA = camA.detect_OOI(imgA) # OOIs Detection for camA\n",
    "results_ooiB = camB.detect_OOI(imgB) # OOIs Detection for camB\n",
    "\n",
    "\n",
    "# print(results_imgA)\n",
    "# results_imgB = cv.imread(results_imgB.show())\n",
    "\n",
    "\"\"\" Noise \"\"\"\n",
    "# Add Noise\n",
    "# reid.add_gaussian_noise(camA)\n",
    "# reid.add_gaussian_noise(camB) \n",
    "\n",
    "# Remove Noise\n",
    "# reid.remove_gaussian_noise(camA)\n",
    "# reid.remove_gaussian_noise(camB)\n"
   ]
  },
  {
   "cell_type": "code",
   "execution_count": 4,
   "metadata": {},
   "outputs": [
    {
     "name": "stdout",
     "output_type": "stream",
     "text": [
      "Transforming B to A \n",
      "ReID Time: 0.002748727798461914\n"
     ]
    }
   ],
   "source": [
    "importlib.reload(reid)\n",
    "importlib.reload(reid_plt)\n",
    "\n",
    "import numpy as np\n",
    "\"\"\" Association \"\"\"\n",
    "t2 = time() # Reid start time\n",
    "results_ooiA_reid, results_ooiB_reid, transformed_OOIs = reid.local_reid(camA, camB, results_ooiA, results_ooiB)\n",
    "t3 = time() # Reid end time\n",
    "print('ReID Time: '+ str(t3 - t2))\n",
    "\n",
    "\"\"\" Debug Plots \"\"\"\n",
    "reid_plt.plot_original_id(imgA, imgB, results_ooiA, results_ooiB)\n",
    "reid_plt.plot_reid(imgA, imgB, results_ooiA_reid, results_ooiB_reid)\n",
    "reid_plt.plot_results(camA, camB, results_ooiA_reid, results_ooiB_reid, transformed_OOIs)\n",
    "\n",
    "\n",
    "# COLUMN    |     0       |       1      |       2      |     3    |     4     |      5     |   6   |     7     |     8     |    9    |   10    |   11    |  12  |  13  |\n",
    "# MEANING   | ORIGINAL ID | BB_centroidX | BB_centroidY | BB_WIDTH | BB_HEIGHT | CONFIDENCE | CLASS | BB_floorX | BB_floorY | WORLD_X | WORLD_Y | WORLD_Z | SEEN | REID |\n",
    "\n"
   ]
  }
 ],
 "metadata": {
  "kernelspec": {
   "display_name": "reid",
   "language": "python",
   "name": "python3"
  },
  "language_info": {
   "codemirror_mode": {
    "name": "ipython",
    "version": 3
   },
   "file_extension": ".py",
   "mimetype": "text/x-python",
   "name": "python",
   "nbconvert_exporter": "python",
   "pygments_lexer": "ipython3",
   "version": "3.9.16"
  },
  "orig_nbformat": 4
 },
 "nbformat": 4,
 "nbformat_minor": 2
}
