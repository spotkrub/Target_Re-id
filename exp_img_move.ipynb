{
 "cells": [
  {
   "cell_type": "code",
   "execution_count": 1,
   "metadata": {},
   "outputs": [],
   "source": [
    "# This notebook is to ease the experiementation process of having to constantly reload any NN models\n",
    "# Import Libraries\n",
    "import cv2 as cv\n",
    "from time import time\n",
    "\n",
    "import yaml\n",
    "import sensors\n",
    "import pandas as pd\n"
   ]
  },
  {
   "cell_type": "code",
   "execution_count": 2,
   "metadata": {},
   "outputs": [
    {
     "name": "stdout",
     "output_type": "stream",
     "text": [
      "\u001b[31m\u001b[1mrequirements:\u001b[0m /home/luacghee20/YOLO/requirements.txt not found, check failed.\n"
     ]
    },
    {
     "name": "stderr",
     "output_type": "stream",
     "text": [
      "YOLOv5 🚀 v7.0-163-g016e046 Python-3.9.16 torch-2.0.0+cu118 CUDA:0 (NVIDIA GeForce RTX 3070 Ti Laptop GPU, 7974MiB)\n",
      "\n",
      "Fusing layers... \n",
      "YOLOv5x summary: 444 layers, 86705005 parameters, 0 gradients\n",
      "Adding AutoShape... \n",
      "YOLOv5 🚀 v7.0-163-g016e046 Python-3.9.16 torch-2.0.0+cu118 CUDA:0 (NVIDIA GeForce RTX 3070 Ti Laptop GPU, 7974MiB)\n",
      "\n",
      "Fusing layers... \n"
     ]
    },
    {
     "name": "stdout",
     "output_type": "stream",
     "text": [
      "\u001b[31m\u001b[1mrequirements:\u001b[0m /home/luacghee20/YOLO/requirements.txt not found, check failed.\n"
     ]
    },
    {
     "name": "stderr",
     "output_type": "stream",
     "text": [
      "YOLOv5x summary: 444 layers, 86705005 parameters, 0 gradients\n",
      "Adding AutoShape... \n"
     ]
    }
   ],
   "source": [
    "def get_frame_filename(f, id):\n",
    "    num_digit = len(str(f))\n",
    "    frame_name = str(f)\n",
    "    if num_digit == 1:\n",
    "        frame_name = '000' + frame_name\n",
    "    elif num_digit == 2:\n",
    "        frame_name = '00' + frame_name\n",
    "    elif num_digit == 3:\n",
    "        frame_name = '0' + frame_name\n",
    "\n",
    "    filename = \"../data/Blender/cam_move/imgseq_human/\" + frame_name + \"_move\" + str(id) + \".png\"\n",
    "    return filename\n",
    "\n",
    "# User Settings\n",
    "media = 'img_human' # ball or human\n",
    "\n",
    "with open('config_detection.yml', 'r') as file:\n",
    "    detection_config = yaml.safe_load(file)\n",
    "detect_setup = detection_config['yolov5_setup1']\n",
    "\n",
    "cam_move_dir = '../data/Blender/cam_move/'\n",
    "with open(cam_move_dir + 'cam_move_info.yml', 'r') as file:\n",
    "    cam_info = yaml.safe_load(file)\n",
    "\n",
    "camA = sensors.cam(cam_info[\"cam_move\" + str(1)])\n",
    "camB = sensors.cam(cam_info[\"cam_move\" + str(0)])\n",
    "\n",
    "csv_fileA = cam_move_dir + camA.cam_output['poses']\n",
    "csv_fileB = cam_move_dir + camB.cam_output['poses']\n",
    "\n",
    "cam_posesA = pd.read_csv(csv_fileA, header = 0)\n",
    "cam_posesB = pd.read_csv(csv_fileB, header = 0)\n",
    "\n",
    "\n",
    "# Initialise OOI detection model\n",
    "camA.detect_init(detect_setup)\n",
    "camB.detect_init(detect_setup)"
   ]
  },
  {
   "cell_type": "code",
   "execution_count": 3,
   "metadata": {},
   "outputs": [
    {
     "data": {
      "text/plain": [
       "' Noise '"
      ]
     },
     "execution_count": 3,
     "metadata": {},
     "output_type": "execute_result"
    }
   ],
   "source": [
    "import importlib # For ipynb\n",
    "\n",
    "import reid_known as reid\n",
    "import reid_known_plots as reid_plt\n",
    "import numpy as np\n",
    "importlib.reload(reid)\n",
    "\n",
    "\"\"\" Data Acquisition \"\"\"\n",
    "f = 290\n",
    "frame_imgseqA = get_frame_filename(f, camA.id)\n",
    "frame_imgseqB = get_frame_filename(f, camB.id)\n",
    "camA.update_pose_csv(cam_posesA.loc[f])\n",
    "camB.update_pose_csv(cam_posesB.loc[f])\n",
    "\n",
    "\n",
    "# Images captured by cameras\n",
    "imgA = cv.imread(frame_imgseqA)\n",
    "imgB = cv.imread(frame_imgseqB)\n",
    "\n",
    "\"\"\" Detection and Pre-processing \"\"\"\n",
    "results_ooiA = camA.detect_OOI(imgA) # OOIs Detection for camA\n",
    "\n",
    "\n",
    "# permutation = [0, 10, 9, 8, 5, 4, 2, 3, 1, 7, 6]\n",
    "# idx = np.empty_like(permutation)\n",
    "# idx[permutation] = np.arange(len(permutation))\n",
    "# results_ooiA[:] = results_ooiA[idx, :]\n",
    "# original_id = np.array([range(len(results_ooiA))])\n",
    "# results_ooiA[:, 0] = original_id\n",
    "\n",
    "\n",
    "\n",
    "results_ooiB = camB.detect_OOI(imgB) # OOIs Detection for camB\n",
    "\n",
    "\"\"\" Noise \"\"\"\n",
    "# Add Noise\n",
    "# reid.add_gaussian_noise(camA)\n",
    "# reid.add_gaussian_noise(camB) \n",
    "\n",
    "# Remove Noise\n",
    "# reid.remove_gaussian_noise(camA)\n",
    "# reid.remove_gaussian_noise(camB)\n"
   ]
  },
  {
   "cell_type": "code",
   "execution_count": 5,
   "metadata": {},
   "outputs": [
    {
     "name": "stdout",
     "output_type": "stream",
     "text": [
      "ReID Time: 0.0045659542083740234\n"
     ]
    }
   ],
   "source": [
    "importlib.reload(reid)\n",
    "importlib.reload(reid_plt)\n",
    "\n",
    "import numpy as np\n",
    "\n",
    "\"\"\" Association \"\"\"\n",
    "t2 = time() # Reid start time\n",
    "results_ooiA_reid, results_ooiB_reid, transformed_OOIs = reid.local_reid(camA, camB, results_ooiA, results_ooiB)\n",
    "t3 = time() # Reid end time\n",
    "print('ReID Time: '+ str(t3 - t2))\n",
    "\n",
    "\n",
    "\"\"\" Debug Plots \"\"\"\n",
    "reid_plt.plot_original_id(imgA, imgB, results_ooiA, results_ooiB)\n",
    "reid_plt.plot_reid(imgA, imgB, results_ooiA_reid, results_ooiB_reid)\n",
    "reid_plt.plot_results(camA, camB, results_ooiA_reid, results_ooiB_reid, transformed_OOIs)\n",
    "\n",
    "\n",
    "# COLUMN    |     0       |       1      |       2      |     3    |     4     |      5     |   6   |     7     |     8     |    9    |   10    |   11    |  12  |  13  |\n",
    "# MEANING   | ORIGINAL ID | BB_centroidX | BB_centroidY | BB_WIDTH | BB_HEIGHT | CONFIDENCE | CLASS | BB_floorX | BB_floorY | WORLD_X | WORLD_Y | WORLD_Z | SEEN | REID |\n",
    "\n"
   ]
  }
 ],
 "metadata": {
  "kernelspec": {
   "display_name": "reid",
   "language": "python",
   "name": "python3"
  },
  "language_info": {
   "codemirror_mode": {
    "name": "ipython",
    "version": 3
   },
   "file_extension": ".py",
   "mimetype": "text/x-python",
   "name": "python",
   "nbconvert_exporter": "python",
   "pygments_lexer": "ipython3",
   "version": "3.9.16"
  },
  "orig_nbformat": 4
 },
 "nbformat": 4,
 "nbformat_minor": 2
}
